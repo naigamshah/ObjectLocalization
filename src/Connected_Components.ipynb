{
 "cells": [
  {
   "cell_type": "code",
   "execution_count": 1,
   "metadata": {},
   "outputs": [],
   "source": [
    "# import the necessary packages\n",
    "from imutils import contours\n",
    "from skimage import measure\n",
    "import numpy as np\n",
    "import argparse\n",
    "import imutils\n",
    "import cv2"
   ]
  },
  {
   "cell_type": "code",
   "execution_count": 2,
   "metadata": {},
   "outputs": [],
   "source": [
    "# load the image, convert it to grayscale, and blur it\n",
    "image = cv2.imread('Images_for_FCRN/Random/gt/img1_1gt.jpg')\n",
    "gray = cv2.cvtColor(image, cv2.COLOR_BGR2GRAY)\n",
    "blurred = cv2.GaussianBlur(gray, (11, 11), 0)"
   ]
  },
  {
   "cell_type": "code",
   "execution_count": null,
   "metadata": {},
   "outputs": [],
   "source": [
    "img1 = prediction[0]\n",
    "img1[img1<120] =0"
   ]
  },
  {
   "cell_type": "code",
   "execution_count": 3,
   "metadata": {},
   "outputs": [],
   "source": [
    "thresh = cv2.threshold(blurred, 120, 255, cv2.THRESH_BINARY)[1]"
   ]
  },
  {
   "cell_type": "code",
   "execution_count": 4,
   "metadata": {},
   "outputs": [],
   "source": [
    "thresh = cv2.erode(thresh, None, iterations=2)\n",
    "thresh = cv2.dilate(thresh, None, iterations=4)"
   ]
  },
  {
   "cell_type": "code",
   "execution_count": 5,
   "metadata": {},
   "outputs": [],
   "source": [
    "labels = measure.label(thresh, neighbors=8, background=0)\n",
    "mask = np.zeros(thresh.shape, dtype=\"uint8\")\n",
    " \n",
    "# loop over the unique components\n",
    "for label in np.unique(labels):\n",
    "\t# if this is the background label, ignore it\n",
    "\tif label == 0:\n",
    "\t\tcontinue\n",
    " \n",
    "\t# otherwise, construct the label mask and count the\n",
    "\t# number of pixels \n",
    "\tlabelMask = np.zeros(thresh.shape, dtype=\"uint8\")\n",
    "\tlabelMask[labels == label] = 255\n",
    "\tnumPixels = cv2.countNonZero(labelMask)\n",
    " \n",
    "\t# if the number of pixels in the component is sufficiently\n",
    "\t# large, then add it to our mask of \"large blobs\"\n",
    "\tif numPixels > 100:\n",
    "\t\tmask = cv2.add(mask, labelMask)"
   ]
  },
  {
   "cell_type": "code",
   "execution_count": null,
   "metadata": {},
   "outputs": [],
   "source": [
    "cnts = cv2.findContours(mask.copy(), cv2.RETR_EXTERNAL,\n",
    "\tcv2.CHAIN_APPROX_SIMPLE)\n",
    "cnts = cnts[0] if imutils.is_cv2() else cnts[1]\n",
    "cnts = contours.sort_contours(cnts)[0]\n",
    " \n",
    "# loop over the contours\n",
    "for (i, c) in enumerate(cnts):\n",
    "\t# draw the bright spot on the image\n",
    "\t(x, y, w, h) = cv2.boundingRect(c)\n",
    "\t((cX, cY), radius) = cv2.minEnclosingCircle(c)\n",
    "\tcv2.circle(image, (int(cX), int(cY)), int(radius),\n",
    "\t\t(0, 0, 255), 3)\n",
    "\tcv2.putText(image, \"#{}\".format(i + 1), (x, y - 15),\n",
    "\t\tcv2.FONT_HERSHEY_SIMPLEX, 0.45, (0, 0, 255), 2)\n",
    " \n",
    "# show the output image\n",
    "cv2.imshow(\"Image\", image)\n",
    "cv2.waitKey(0)"
   ]
  },
  {
   "cell_type": "code",
   "execution_count": null,
   "metadata": {},
   "outputs": [],
   "source": []
  }
 ],
 "metadata": {
  "kernelspec": {
   "display_name": "Python 3",
   "language": "python",
   "name": "python3"
  },
  "language_info": {
   "codemirror_mode": {
    "name": "ipython",
    "version": 3
   },
   "file_extension": ".py",
   "mimetype": "text/x-python",
   "name": "python",
   "nbconvert_exporter": "python",
   "pygments_lexer": "ipython3",
   "version": "3.5.2"
  }
 },
 "nbformat": 4,
 "nbformat_minor": 2
}
